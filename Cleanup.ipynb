{
 "cells": [
  {
   "cell_type": "markdown",
   "id": "7d40502a-eba0-40fe-bd38-8aca70448850",
   "metadata": {},
   "source": [
    "# Diabetes CDC Dataset Cleanup"
   ]
  },
  {
   "cell_type": "code",
   "execution_count": 1,
   "id": "1248ce78-d5c6-4c5e-9ed2-af4bafdba0af",
   "metadata": {},
   "outputs": [],
   "source": [
    "#Import Dependencies\n",
    "import pandas as pd\n",
    "import numpy as np"
   ]
  },
  {
   "cell_type": "markdown",
   "id": "57dd3a5a-4bab-4b3f-9a96-959a3ff59b4c",
   "metadata": {},
   "source": [
    "## Diabetes percentage in the US from 2000-2019"
   ]
  },
  {
   "cell_type": "code",
   "execution_count": 2,
   "id": "562c055d-6fb2-45bb-bfc6-4de107ac27b7",
   "metadata": {},
   "outputs": [],
   "source": [
    "data = pd.read_csv(\"resources/DiabetesNational00-19.csv\", skiprows=2, delimiter=',')"
   ]
  },
  {
   "cell_type": "code",
   "execution_count": 3,
   "id": "e0f20541-ccb5-423c-b979-80edc7d4c696",
   "metadata": {},
   "outputs": [
    {
     "data": {
      "text/html": [
       "<div>\n",
       "<style scoped>\n",
       "    .dataframe tbody tr th:only-of-type {\n",
       "        vertical-align: middle;\n",
       "    }\n",
       "\n",
       "    .dataframe tbody tr th {\n",
       "        vertical-align: top;\n",
       "    }\n",
       "\n",
       "    .dataframe thead th {\n",
       "        text-align: right;\n",
       "    }\n",
       "</style>\n",
       "<table border=\"1\" class=\"dataframe\">\n",
       "  <thead>\n",
       "    <tr style=\"text-align: right;\">\n",
       "      <th></th>\n",
       "      <th>Year</th>\n",
       "      <th>Total - Percentage</th>\n",
       "      <th>Total - Lower Limit</th>\n",
       "      <th>Total - Upper Limit</th>\n",
       "      <th>Unnamed: 4</th>\n",
       "    </tr>\n",
       "  </thead>\n",
       "  <tbody>\n",
       "    <tr>\n",
       "      <th>0</th>\n",
       "      <td>2000</td>\n",
       "      <td>6.0</td>\n",
       "      <td>5.7</td>\n",
       "      <td>6.3</td>\n",
       "      <td>NaN</td>\n",
       "    </tr>\n",
       "    <tr>\n",
       "      <th>1</th>\n",
       "      <td>2001</td>\n",
       "      <td>6.4</td>\n",
       "      <td>6.1</td>\n",
       "      <td>6.8</td>\n",
       "      <td>NaN</td>\n",
       "    </tr>\n",
       "    <tr>\n",
       "      <th>2</th>\n",
       "      <td>2002</td>\n",
       "      <td>6.5</td>\n",
       "      <td>6.2</td>\n",
       "      <td>6.8</td>\n",
       "      <td>NaN</td>\n",
       "    </tr>\n",
       "    <tr>\n",
       "      <th>3</th>\n",
       "      <td>2003</td>\n",
       "      <td>6.6</td>\n",
       "      <td>6.3</td>\n",
       "      <td>6.9</td>\n",
       "      <td>NaN</td>\n",
       "    </tr>\n",
       "    <tr>\n",
       "      <th>4</th>\n",
       "      <td>2004</td>\n",
       "      <td>7.0</td>\n",
       "      <td>6.7</td>\n",
       "      <td>7.3</td>\n",
       "      <td>NaN</td>\n",
       "    </tr>\n",
       "  </tbody>\n",
       "</table>\n",
       "</div>"
      ],
      "text/plain": [
       "   Year  Total - Percentage  Total - Lower Limit  Total - Upper Limit  \\\n",
       "0  2000                 6.0                  5.7                  6.3   \n",
       "1  2001                 6.4                  6.1                  6.8   \n",
       "2  2002                 6.5                  6.2                  6.8   \n",
       "3  2003                 6.6                  6.3                  6.9   \n",
       "4  2004                 7.0                  6.7                  7.3   \n",
       "\n",
       "   Unnamed: 4  \n",
       "0         NaN  \n",
       "1         NaN  \n",
       "2         NaN  \n",
       "3         NaN  \n",
       "4         NaN  "
      ]
     },
     "execution_count": 3,
     "metadata": {},
     "output_type": "execute_result"
    }
   ],
   "source": [
    "data.head()"
   ]
  },
  {
   "cell_type": "code",
   "execution_count": 4,
   "id": "fd38c15b-8ae4-4425-b6c2-e1d7693d6502",
   "metadata": {},
   "outputs": [
    {
     "data": {
      "text/plain": [
       "(21, 5)"
      ]
     },
     "execution_count": 4,
     "metadata": {},
     "output_type": "execute_result"
    }
   ],
   "source": [
    "data.shape"
   ]
  },
  {
   "cell_type": "code",
   "execution_count": 5,
   "id": "c72f075d-50f8-4a5c-bab2-9bd3a72bcd08",
   "metadata": {},
   "outputs": [
    {
     "data": {
      "text/html": [
       "<div>\n",
       "<style scoped>\n",
       "    .dataframe tbody tr th:only-of-type {\n",
       "        vertical-align: middle;\n",
       "    }\n",
       "\n",
       "    .dataframe tbody tr th {\n",
       "        vertical-align: top;\n",
       "    }\n",
       "\n",
       "    .dataframe thead th {\n",
       "        text-align: right;\n",
       "    }\n",
       "</style>\n",
       "<table border=\"1\" class=\"dataframe\">\n",
       "  <thead>\n",
       "    <tr style=\"text-align: right;\">\n",
       "      <th></th>\n",
       "      <th>Year</th>\n",
       "      <th>Total - Percentage</th>\n",
       "      <th>Total - Lower Limit</th>\n",
       "      <th>Total - Upper Limit</th>\n",
       "    </tr>\n",
       "  </thead>\n",
       "  <tbody>\n",
       "    <tr>\n",
       "      <th>0</th>\n",
       "      <td>2000</td>\n",
       "      <td>6.0</td>\n",
       "      <td>5.7</td>\n",
       "      <td>6.3</td>\n",
       "    </tr>\n",
       "    <tr>\n",
       "      <th>1</th>\n",
       "      <td>2001</td>\n",
       "      <td>6.4</td>\n",
       "      <td>6.1</td>\n",
       "      <td>6.8</td>\n",
       "    </tr>\n",
       "    <tr>\n",
       "      <th>2</th>\n",
       "      <td>2002</td>\n",
       "      <td>6.5</td>\n",
       "      <td>6.2</td>\n",
       "      <td>6.8</td>\n",
       "    </tr>\n",
       "    <tr>\n",
       "      <th>3</th>\n",
       "      <td>2003</td>\n",
       "      <td>6.6</td>\n",
       "      <td>6.3</td>\n",
       "      <td>6.9</td>\n",
       "    </tr>\n",
       "    <tr>\n",
       "      <th>4</th>\n",
       "      <td>2004</td>\n",
       "      <td>7.0</td>\n",
       "      <td>6.7</td>\n",
       "      <td>7.3</td>\n",
       "    </tr>\n",
       "  </tbody>\n",
       "</table>\n",
       "</div>"
      ],
      "text/plain": [
       "   Year  Total - Percentage  Total - Lower Limit  Total - Upper Limit\n",
       "0  2000                 6.0                  5.7                  6.3\n",
       "1  2001                 6.4                  6.1                  6.8\n",
       "2  2002                 6.5                  6.2                  6.8\n",
       "3  2003                 6.6                  6.3                  6.9\n",
       "4  2004                 7.0                  6.7                  7.3"
      ]
     },
     "execution_count": 5,
     "metadata": {},
     "output_type": "execute_result"
    }
   ],
   "source": [
    "nat = data.iloc[:20,0:4]\n",
    "nat.head()"
   ]
  },
  {
   "cell_type": "code",
   "execution_count": 6,
   "id": "96f6c241-c415-426a-8f06-37f689ab43e0",
   "metadata": {},
   "outputs": [
    {
     "data": {
      "text/plain": [
       "(20, 4)"
      ]
     },
     "execution_count": 6,
     "metadata": {},
     "output_type": "execute_result"
    }
   ],
   "source": [
    "nat.shape"
   ]
  },
  {
   "cell_type": "code",
   "execution_count": 7,
   "id": "5f3c4922-d443-4417-ac2b-9902ed874ce4",
   "metadata": {},
   "outputs": [],
   "source": [
    "nat.to_csv(r'DiabetesUSA2000-2019.csv', encoding='utf-8', index=False)"
   ]
  },
  {
   "cell_type": "markdown",
   "id": "46d12cc7-e34a-4f2d-9faf-a8a19165a1ee",
   "metadata": {},
   "source": [
    "## Diabetes percentage of every county in the US for 2018\n",
    "\n",
    "### What is CDC's Social Vulnerability Index (SVI)?\n",
    "\n",
    "The Centers for Disease Control and Prevention Social Vulnerability Index, or CDC SVI, is made up of four aggregated themes and 15 individual variables. The four CDC SVI themes include Socioeconomic Status, Household Composition & Disability, Minority Status & Language, and Housing Type & Transportation. Social vulnerability scores for each of these themes are derived from normalized percentile ranks for each CDC SVI variable. There are 15 CDC SVI variables – living below the poverty threshold, unemployment, per capita income, no high school diploma, being age 65 years and older, being age 17 years and younger, living with a disability, single-parent households, being a racial/ethnic minority, limited English-speaking skills, multi-unit housing structures, mobile home, crowded housing, no household vehicle access, and group quarters housing – for which social vulnerability scores are also derived from normalized percentile ranks of Census Bureau raw count and percentage data. For more information please visit the CDC SVI website.\n",
    "\n",
    "### What is County FIPS?\n",
    "\n",
    "FIPS codes are numbers which uniquely identify geographic areas. The number of digits in FIPS codes vary depending on the level of geography. State-level FIPS codes have two digits, county-level FIPS codes have five digits of which the first two are the FIPS code of the state to which the county belongs."
   ]
  },
  {
   "cell_type": "code",
   "execution_count": 8,
   "id": "c4c674e4-61c4-4ab8-808b-7cff14c88702",
   "metadata": {},
   "outputs": [],
   "source": [
    "data1 = pd.read_csv(\"resources/DiabetesAtlasData2018.csv\", skiprows=2, skipfooter=1, delimiter=',', engine='python')"
   ]
  },
  {
   "cell_type": "code",
   "execution_count": 9,
   "id": "b1fae032-cb75-4471-97d2-7d87a0c6917b",
   "metadata": {},
   "outputs": [
    {
     "data": {
      "text/html": [
       "<div>\n",
       "<style scoped>\n",
       "    .dataframe tbody tr th:only-of-type {\n",
       "        vertical-align: middle;\n",
       "    }\n",
       "\n",
       "    .dataframe tbody tr th {\n",
       "        vertical-align: top;\n",
       "    }\n",
       "\n",
       "    .dataframe thead th {\n",
       "        text-align: right;\n",
       "    }\n",
       "</style>\n",
       "<table border=\"1\" class=\"dataframe\">\n",
       "  <thead>\n",
       "    <tr style=\"text-align: right;\">\n",
       "      <th></th>\n",
       "      <th>Year</th>\n",
       "      <th>County_FIPS</th>\n",
       "      <th>County</th>\n",
       "      <th>State</th>\n",
       "      <th>Diagnosed Diabetes Percentage</th>\n",
       "      <th>Overall SVI</th>\n",
       "    </tr>\n",
       "  </thead>\n",
       "  <tbody>\n",
       "    <tr>\n",
       "      <th>0</th>\n",
       "      <td>2018</td>\n",
       "      <td>1001</td>\n",
       "      <td>Autauga County</td>\n",
       "      <td>Alabama</td>\n",
       "      <td>9.5</td>\n",
       "      <td>0.4354</td>\n",
       "    </tr>\n",
       "    <tr>\n",
       "      <th>1</th>\n",
       "      <td>2018</td>\n",
       "      <td>1003</td>\n",
       "      <td>Baldwin County</td>\n",
       "      <td>Alabama</td>\n",
       "      <td>8.4</td>\n",
       "      <td>0.2162</td>\n",
       "    </tr>\n",
       "    <tr>\n",
       "      <th>2</th>\n",
       "      <td>2018</td>\n",
       "      <td>1005</td>\n",
       "      <td>Barbour County</td>\n",
       "      <td>Alabama</td>\n",
       "      <td>13.5</td>\n",
       "      <td>0.9959</td>\n",
       "    </tr>\n",
       "    <tr>\n",
       "      <th>3</th>\n",
       "      <td>2018</td>\n",
       "      <td>1007</td>\n",
       "      <td>Bibb County</td>\n",
       "      <td>Alabama</td>\n",
       "      <td>10.2</td>\n",
       "      <td>0.6003</td>\n",
       "    </tr>\n",
       "    <tr>\n",
       "      <th>4</th>\n",
       "      <td>2018</td>\n",
       "      <td>1009</td>\n",
       "      <td>Blount County</td>\n",
       "      <td>Alabama</td>\n",
       "      <td>10.5</td>\n",
       "      <td>0.4242</td>\n",
       "    </tr>\n",
       "  </tbody>\n",
       "</table>\n",
       "</div>"
      ],
      "text/plain": [
       "   Year  County_FIPS          County    State  Diagnosed Diabetes Percentage  \\\n",
       "0  2018         1001  Autauga County  Alabama                            9.5   \n",
       "1  2018         1003  Baldwin County  Alabama                            8.4   \n",
       "2  2018         1005  Barbour County  Alabama                           13.5   \n",
       "3  2018         1007     Bibb County  Alabama                           10.2   \n",
       "4  2018         1009   Blount County  Alabama                           10.5   \n",
       "\n",
       "   Overall SVI  \n",
       "0       0.4354  \n",
       "1       0.2162  \n",
       "2       0.9959  \n",
       "3       0.6003  \n",
       "4       0.4242  "
      ]
     },
     "execution_count": 9,
     "metadata": {},
     "output_type": "execute_result"
    }
   ],
   "source": [
    "data1.head()"
   ]
  },
  {
   "cell_type": "code",
   "execution_count": 10,
   "id": "ee239ef6-532b-416c-83a6-f9fd307e1801",
   "metadata": {},
   "outputs": [
    {
     "data": {
      "text/html": [
       "<div>\n",
       "<style scoped>\n",
       "    .dataframe tbody tr th:only-of-type {\n",
       "        vertical-align: middle;\n",
       "    }\n",
       "\n",
       "    .dataframe tbody tr th {\n",
       "        vertical-align: top;\n",
       "    }\n",
       "\n",
       "    .dataframe thead th {\n",
       "        text-align: right;\n",
       "    }\n",
       "</style>\n",
       "<table border=\"1\" class=\"dataframe\">\n",
       "  <thead>\n",
       "    <tr style=\"text-align: right;\">\n",
       "      <th></th>\n",
       "      <th>Year</th>\n",
       "      <th>County_FIPS</th>\n",
       "      <th>County</th>\n",
       "      <th>State</th>\n",
       "      <th>Diagnosed Diabetes Percentage</th>\n",
       "      <th>Overall SVI</th>\n",
       "    </tr>\n",
       "  </thead>\n",
       "  <tbody>\n",
       "    <tr>\n",
       "      <th>3136</th>\n",
       "      <td>2018</td>\n",
       "      <td>56037</td>\n",
       "      <td>Sweetwater County</td>\n",
       "      <td>Wyoming</td>\n",
       "      <td>7.8</td>\n",
       "      <td>0.3701</td>\n",
       "    </tr>\n",
       "    <tr>\n",
       "      <th>3137</th>\n",
       "      <td>2018</td>\n",
       "      <td>56039</td>\n",
       "      <td>Teton County</td>\n",
       "      <td>Wyoming</td>\n",
       "      <td>3.8</td>\n",
       "      <td>0.1127</td>\n",
       "    </tr>\n",
       "    <tr>\n",
       "      <th>3138</th>\n",
       "      <td>2018</td>\n",
       "      <td>56041</td>\n",
       "      <td>Uinta County</td>\n",
       "      <td>Wyoming</td>\n",
       "      <td>8.4</td>\n",
       "      <td>0.4522</td>\n",
       "    </tr>\n",
       "    <tr>\n",
       "      <th>3139</th>\n",
       "      <td>2018</td>\n",
       "      <td>56043</td>\n",
       "      <td>Washakie County</td>\n",
       "      <td>Wyoming</td>\n",
       "      <td>7.4</td>\n",
       "      <td>0.3732</td>\n",
       "    </tr>\n",
       "    <tr>\n",
       "      <th>3140</th>\n",
       "      <td>2018</td>\n",
       "      <td>56045</td>\n",
       "      <td>Weston County</td>\n",
       "      <td>Wyoming</td>\n",
       "      <td>7.6</td>\n",
       "      <td>0.3475</td>\n",
       "    </tr>\n",
       "  </tbody>\n",
       "</table>\n",
       "</div>"
      ],
      "text/plain": [
       "      Year  County_FIPS             County    State  \\\n",
       "3136  2018        56037  Sweetwater County  Wyoming   \n",
       "3137  2018        56039       Teton County  Wyoming   \n",
       "3138  2018        56041       Uinta County  Wyoming   \n",
       "3139  2018        56043    Washakie County  Wyoming   \n",
       "3140  2018        56045      Weston County  Wyoming   \n",
       "\n",
       "      Diagnosed Diabetes Percentage  Overall SVI  \n",
       "3136                            7.8       0.3701  \n",
       "3137                            3.8       0.1127  \n",
       "3138                            8.4       0.4522  \n",
       "3139                            7.4       0.3732  \n",
       "3140                            7.6       0.3475  "
      ]
     },
     "execution_count": 10,
     "metadata": {},
     "output_type": "execute_result"
    }
   ],
   "source": [
    "data1.tail()"
   ]
  },
  {
   "cell_type": "code",
   "execution_count": 12,
   "id": "5e9b8c3a-89bc-4d7d-99cc-787d07c098de",
   "metadata": {},
   "outputs": [],
   "source": [
    "data1.to_csv(r'Diabetesbycounty2018.csv', encoding='utf-8', index=False)"
   ]
  }
 ],
 "metadata": {
  "kernelspec": {
   "display_name": "Python 3 (ipykernel)",
   "language": "python",
   "name": "python3"
  },
  "language_info": {
   "codemirror_mode": {
    "name": "ipython",
    "version": 3
   },
   "file_extension": ".py",
   "mimetype": "text/x-python",
   "name": "python",
   "nbconvert_exporter": "python",
   "pygments_lexer": "ipython3",
   "version": "3.9.7"
  }
 },
 "nbformat": 4,
 "nbformat_minor": 5
}
